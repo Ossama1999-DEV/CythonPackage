{
 "cells": [
  {
   "cell_type": "markdown",
   "metadata": {},
   "source": [
    "# Vecteur de valeurs"
   ]
  },
  {
   "cell_type": "code",
   "execution_count": null,
   "metadata": {},
   "outputs": [
    {
     "ename": "",
     "evalue": "",
     "output_type": "error",
     "traceback": [
      "\u001b[1;31mRunning cells with 'Python 3.11.2' requires the ipykernel package.\n",
      "\u001b[1;31mInstall 'ipykernel' into the Python environment. \n",
      "\u001b[1;31mCommand: '/usr/bin/python -m pip install ipykernel -U --user --force-reinstall'"
     ]
    }
   ],
   "source": [
    "#Python\n",
    "import sys\n",
    "sys.version"
   ]
  },
  {
   "cell_type": "code",
   "execution_count": 2,
   "metadata": {},
   "outputs": [
    {
     "data": {
      "text/plain": [
       "'2.2.1'"
      ]
     },
     "execution_count": 2,
     "metadata": {},
     "output_type": "execute_result"
    }
   ],
   "source": [
    "#numpy\n",
    "import numpy\n",
    "numpy.__version__"
   ]
  },
  {
   "cell_type": "code",
   "execution_count": 3,
   "metadata": {},
   "outputs": [],
   "source": [
    "#nombre de valeurs\n",
    "n = 3000"
   ]
  },
  {
   "cell_type": "code",
   "execution_count": 4,
   "metadata": {},
   "outputs": [
    {
     "data": {
      "text/plain": [
       "(3000,)"
      ]
     },
     "execution_count": 4,
     "metadata": {},
     "output_type": "execute_result"
    }
   ],
   "source": [
    "#vecteur de valeurs\n",
    "rng = numpy.random.default_rng(seed=2024)\n",
    "v = rng.random(size=n)\n",
    "v.shape"
   ]
  },
  {
   "cell_type": "markdown",
   "metadata": {},
   "source": [
    "# Programme recherche extremum"
   ]
  },
  {
   "cell_type": "code",
   "execution_count": 5,
   "metadata": {},
   "outputs": [],
   "source": [
    "#sans directive particulière\n",
    "#side = 0 -> min ; side != 0 -> max\n",
    "def extremum(x,side):\n",
    "    #copie locale\n",
    "    vec = numpy.copy(x)\n",
    "    n = len(vec)\n",
    "    #tri à bulles -- https://fr.wikipedia.org/wiki/Tri_à_bulles\n",
    "    for i in range(n-1,0,-1):\n",
    "        for j in range(0,i):\n",
    "            if (vec[j+1] < vec[j]):\n",
    "                temp = vec[j+1]\n",
    "                vec[j+1] = vec[j]\n",
    "                vec[j] = temp\n",
    "    #déterminer l'extremum à renvoyer\n",
    "    res = vec[0] if side == 0 else vec[-1]\n",
    "    #renvoyer l'extremum\n",
    "    return res"
   ]
  },
  {
   "cell_type": "code",
   "execution_count": 6,
   "metadata": {},
   "outputs": [
    {
     "name": "stdout",
     "output_type": "stream",
     "text": [
      "0.00042384932857031377\n"
     ]
    }
   ],
   "source": [
    "#obtenir le minimum\n",
    "print(extremum(v,0))"
   ]
  },
  {
   "cell_type": "code",
   "execution_count": 7,
   "metadata": {},
   "outputs": [
    {
     "name": "stdout",
     "output_type": "stream",
     "text": [
      "1.47 s ± 6.06 ms per loop (mean ± std. dev. of 7 runs, 1 loop each)\n"
     ]
    }
   ],
   "source": [
    "#temps de calcul\n",
    "%timeit extremum(v,0)"
   ]
  },
  {
   "cell_type": "markdown",
   "metadata": {},
   "source": [
    "# Passage en cython (brut)"
   ]
  },
  {
   "cell_type": "code",
   "execution_count": 8,
   "metadata": {},
   "outputs": [],
   "source": [
    "#importation de la librairie\n",
    "import cython"
   ]
  },
  {
   "cell_type": "code",
   "execution_count": 9,
   "metadata": {},
   "outputs": [],
   "source": [
    "#activer la possibilité de compiler en Cython\n",
    "#le contenu des cellules du notebook\n",
    "%load_ext Cython"
   ]
  },
  {
   "cell_type": "markdown",
   "metadata": {},
   "source": [
    "La directive %%cython indique une cellule Cython, c.-à-d. le code sera compilé suivant Cython"
   ]
  },
  {
   "cell_type": "code",
   "execution_count": 10,
   "metadata": {},
   "outputs": [
    {
     "name": "stdout",
     "output_type": "stream",
     "text": [
      "Content of stdout:\n",
      "_cython_magic_e7fe84a444ec2fb634b4062456cd7c37a67abc33.c\n",
      "   Cration de la bibliothque C:\\Users\\ricco\\.ipython\\cython\\Users\\ricco\\.ipython\\cython\\_cython_magic_e7fe84a444ec2fb634b4062456cd7c37a67abc33.cp311-win_amd64.lib et de l'objet C:\\Users\\ricco\\.ipython\\cython\\Users\\ricco\\.ipython\\cython\\_cython_magic_e7fe84a444ec2fb634b4062456cd7c37a67abc33.cp311-win_amd64.exp\n",
      "Gnration de code en cours\n",
      "Fin de la gnration du code"
     ]
    }
   ],
   "source": [
    "%%cython\n",
    "\n",
    "import numpy as np \n",
    "\n",
    "def cy_extremum_v1(x,side):\n",
    "    #copie locale\n",
    "    vec = np.copy(x)\n",
    "    n = len(vec)\n",
    "    #tri à bulles -- https://fr.wikipedia.org/wiki/Tri_à_bulles\n",
    "    for i in range(n-1,0,-1):\n",
    "        for j in range(0,i):\n",
    "            if (vec[j+1] < vec[j]):\n",
    "                temp = vec[j+1]\n",
    "                vec[j+1] = vec[j]\n",
    "                vec[j] = temp\n",
    "    #déterminer l'extremum à renvoyer\n",
    "    res = vec[0] if side == 0 else vec[-1]\n",
    "    #renvoyer l'extremum\n",
    "    return res"
   ]
  },
  {
   "cell_type": "code",
   "execution_count": 11,
   "metadata": {},
   "outputs": [
    {
     "name": "stdout",
     "output_type": "stream",
     "text": [
      "0.00042384932857031377\n"
     ]
    }
   ],
   "source": [
    "print(cy_extremum_v1(v,0))"
   ]
  },
  {
   "cell_type": "code",
   "execution_count": 12,
   "metadata": {},
   "outputs": [
    {
     "name": "stdout",
     "output_type": "stream",
     "text": [
      "1.11 s ± 16.7 ms per loop (mean ± std. dev. of 7 runs, 1 loop each)\n"
     ]
    }
   ],
   "source": [
    "#temps de calcul\n",
    "%timeit cy_extremum_v1(v,0)"
   ]
  },
  {
   "cell_type": "markdown",
   "metadata": {},
   "source": [
    "# Passage en Cython (réécriture)"
   ]
  },
  {
   "cell_type": "code",
   "execution_count": 13,
   "metadata": {},
   "outputs": [
    {
     "name": "stdout",
     "output_type": "stream",
     "text": [
      "Content of stdout:\n",
      "_cython_magic_817bed3a9a53291d91099a1f4bf6f28559c6ec9f.c\n",
      "C:\\Users\\ricco\\.ipython\\cython\\_cython_magic_817bed3a9a53291d91099a1f4bf6f28559c6ec9f.c(17563): warning C4244: '='ÿ: conversion de 'Py_ssize_t' en 'int', perte possible de donnes\n",
      "   Cration de la bibliothque C:\\Users\\ricco\\.ipython\\cython\\Users\\ricco\\.ipython\\cython\\_cython_magic_817bed3a9a53291d91099a1f4bf6f28559c6ec9f.cp311-win_amd64.lib et de l'objet C:\\Users\\ricco\\.ipython\\cython\\Users\\ricco\\.ipython\\cython\\_cython_magic_817bed3a9a53291d91099a1f4bf6f28559c6ec9f.cp311-win_amd64.exp\n",
      "Gnration de code en cours\n",
      "Fin de la gnration du code"
     ]
    }
   ],
   "source": [
    "%%cython\n",
    "\n",
    "import numpy as np\n",
    "\n",
    "def cy_extremum_v2(double[:] x, int side):\n",
    "    #copie locale\n",
    "    cdef double [:] vec = np.copy(x) \n",
    "    cdef int n = len(vec)\n",
    "    cdef int i, j\n",
    "    #tri à bulles -- https://fr.wikipedia.org/wiki/Tri_à_bulles\n",
    "    for i in range(n-1,0,-1):\n",
    "        for j in range(0,i):\n",
    "            if (vec[j+1] < vec[j]):\n",
    "                temp = vec[j+1]\n",
    "                vec[j+1] = vec[j]\n",
    "                vec[j] = temp\n",
    "    #déterminer l'extremum à renvoyer\n",
    "    res = vec[0] if side == 0 else vec[-1]\n",
    "    #renvoyer l'extremum\n",
    "    return res"
   ]
  },
  {
   "cell_type": "code",
   "execution_count": 14,
   "metadata": {},
   "outputs": [
    {
     "name": "stdout",
     "output_type": "stream",
     "text": [
      "0.00042384932857031377\n"
     ]
    }
   ],
   "source": [
    "#vérification\n",
    "print(cy_extremum_v2(v,0))"
   ]
  },
  {
   "cell_type": "code",
   "execution_count": 15,
   "metadata": {},
   "outputs": [
    {
     "name": "stdout",
     "output_type": "stream",
     "text": [
      "17.2 ms ± 47.7 μs per loop (mean ± std. dev. of 7 runs, 100 loops each)\n"
     ]
    }
   ],
   "source": [
    "#temps de calcul\n",
    "%timeit cy_extremum_v2(v,0)"
   ]
  },
  {
   "cell_type": "markdown",
   "metadata": {},
   "source": [
    "# Passage Cython (bis) - Directives de compilation"
   ]
  },
  {
   "cell_type": "code",
   "execution_count": 16,
   "metadata": {},
   "outputs": [
    {
     "name": "stderr",
     "output_type": "stream",
     "text": [
      "warning: C:\\Users\\ricco\\.ipython\\cython\\_cython_magic_e490aa4b255cda2a5daf7f1c34104178cff02808.pyx:20:40: the result of using negative indices inside of code sections marked as 'wraparound=False' is undefined\n"
     ]
    },
    {
     "name": "stdout",
     "output_type": "stream",
     "text": [
      "Content of stdout:\n",
      "_cython_magic_e490aa4b255cda2a5daf7f1c34104178cff02808.c\n",
      "C:\\Users\\ricco\\.ipython\\cython\\_cython_magic_e490aa4b255cda2a5daf7f1c34104178cff02808.c(17578): warning C4244: '='ÿ: conversion de 'Py_ssize_t' en 'int', perte possible de donnes\n",
      "   Cration de la bibliothque C:\\Users\\ricco\\.ipython\\cython\\Users\\ricco\\.ipython\\cython\\_cython_magic_e490aa4b255cda2a5daf7f1c34104178cff02808.cp311-win_amd64.lib et de l'objet C:\\Users\\ricco\\.ipython\\cython\\Users\\ricco\\.ipython\\cython\\_cython_magic_e490aa4b255cda2a5daf7f1c34104178cff02808.cp311-win_amd64.exp\n",
      "Gnration de code en cours\n",
      "Fin de la gnration du code"
     ]
    }
   ],
   "source": [
    "%%cython\n",
    "\n",
    "import numpy as np\n",
    "cimport cython\n",
    "\n",
    "@cython.boundscheck(False) # turn off bounds-checking for entire function\n",
    "@cython.wraparound(False)  # turn off negative index wrapping for entire function\n",
    "def cy_extremum_v3(double[:] x, int side):\n",
    "    #copie locale\n",
    "    cdef double [:] vec = np.copy(x) \n",
    "    cdef int n = len(vec)\n",
    "    cdef int i, j\n",
    "    #tri à bulles -- https://fr.wikipedia.org/wiki/Tri_à_bulles\n",
    "    for i in range(n-1,0,-1):\n",
    "        for j in range(0,i):\n",
    "            if (vec[j+1] < vec[j]):\n",
    "                temp = vec[j+1]\n",
    "                vec[j+1] = vec[j]\n",
    "                vec[j] = temp\n",
    "    #déterminer l'extremum à renvoyer\n",
    "    res = vec[0] if side == 0 else vec[-1]\n",
    "    #renvoyer l'extremum\n",
    "    return res"
   ]
  },
  {
   "cell_type": "code",
   "execution_count": 17,
   "metadata": {},
   "outputs": [
    {
     "name": "stdout",
     "output_type": "stream",
     "text": [
      "0.00042384932857031377\n"
     ]
    }
   ],
   "source": [
    "#vérification\n",
    "print(cy_extremum_v3(v,0))"
   ]
  },
  {
   "cell_type": "code",
   "execution_count": 18,
   "metadata": {},
   "outputs": [
    {
     "name": "stdout",
     "output_type": "stream",
     "text": [
      "8.56 ms ± 60.1 μs per loop (mean ± std. dev. of 7 runs, 100 loops each)\n"
     ]
    }
   ],
   "source": [
    "#temps de calcul\n",
    "%timeit cy_extremum_v3(v,0)"
   ]
  }
 ],
 "metadata": {
  "kernelspec": {
   "display_name": "Python 3",
   "language": "python",
   "name": "python3"
  },
  "language_info": {
   "codemirror_mode": {
    "name": "ipython",
    "version": 3
   },
   "file_extension": ".py",
   "mimetype": "text/x-python",
   "name": "python",
   "nbconvert_exporter": "python",
   "pygments_lexer": "ipython3",
   "version": "3.11.2"
  }
 },
 "nbformat": 4,
 "nbformat_minor": 2
}
